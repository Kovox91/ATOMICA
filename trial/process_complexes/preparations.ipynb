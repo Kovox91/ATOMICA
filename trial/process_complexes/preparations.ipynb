{
 "cells": [
  {
   "cell_type": "markdown",
   "id": "76925063",
   "metadata": {},
   "source": [
    "This little script creates the `index.csv` needed for the process_pdbs script "
   ]
  },
  {
   "cell_type": "code",
   "execution_count": null,
   "id": "8ab6c54c",
   "metadata": {},
   "outputs": [
    {
     "name": "stdout",
     "output_type": "stream",
     "text": [
      "CSV file written to pdb_summary.csv\n"
     ]
    }
   ],
   "source": [
    "import os\n",
    "import csv\n",
    "from pathlib import Path\n",
    "\n",
    "def collect_pdb_data(folder_path, output_csv=\"pdb_summary.csv\"):\n",
    "    pdb_entries = []\n",
    "    folder_path = Path(folder_path)\n",
    "\n",
    "    for pdb_file in folder_path.rglob(\"*.pdb\"):\n",
    "        pdb_id = pdb_file.stem.lower()\n",
    "        pdb_path = str(pdb_file)\n",
    "        # Placeholder fields – update this logic if you want to extract real data\n",
    "        chain1 = \"A\"\n",
    "        chain2 = \"B_C\"\n",
    "        lig_code = \"\"\n",
    "        lig_smiles = \"\"\n",
    "        lig_resi = \"\"\n",
    "\n",
    "        pdb_entries.append({\n",
    "            \"pdb_id\": pdb_id,\n",
    "            \"pdb_path\": pdb_path,\n",
    "            \"chain1\": chain1,\n",
    "            \"chain2\": chain2,\n",
    "            \"lig_code\": lig_code,\n",
    "            \"lig_smiles\": lig_smiles,\n",
    "            \"lig_resi\": lig_resi\n",
    "        })\n",
    "\n",
    "    with open(output_csv, \"w\", newline=\"\") as csvfile:\n",
    "        fieldnames = [\"pdb_id\", \"pdb_path\", \"chain1\", \"chain2\", \"lig_code\", \"lig_smiles\", \"lig_resi\"]\n",
    "        writer = csv.DictWriter(csvfile, fieldnames=fieldnames)\n",
    "        writer.writeheader()\n",
    "        writer.writerows(pdb_entries)\n",
    "\n",
    "    print(f\"CSV file written to {output_csv}\")\n",
    "\n",
    "# Example usage:\n",
    "if __name__ == \"__main__\":\n",
    "    collect_pdb_data(\"/home/sascha/data/Projects/affinity_project/affinity/src/submodules/dna_positioning/complexes_pdbs\")\n"
   ]
  },
  {
   "cell_type": "code",
   "execution_count": null,
   "id": "91d09102",
   "metadata": {},
   "outputs": [],
   "source": []
  }
 ],
 "metadata": {
  "kernelspec": {
   "display_name": "atomicaenv",
   "language": "python",
   "name": "python3"
  },
  "language_info": {
   "codemirror_mode": {
    "name": "ipython",
    "version": 3
   },
   "file_extension": ".py",
   "mimetype": "text/x-python",
   "name": "python",
   "nbconvert_exporter": "python",
   "pygments_lexer": "ipython3",
   "version": "3.9.22"
  }
 },
 "nbformat": 4,
 "nbformat_minor": 5
}
