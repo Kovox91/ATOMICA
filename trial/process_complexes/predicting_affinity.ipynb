{
 "cells": [
  {
   "cell_type": "markdown",
   "id": "6abb0a00",
   "metadata": {},
   "source": [
    "After ATOMICA was trained for 3 epoch on predicting made up affinities, here we predict more affinities."
   ]
  },
  {
   "cell_type": "code",
   "execution_count": 1,
   "id": "93ebf459",
   "metadata": {},
   "outputs": [],
   "source": [
    "import numpy as np\n",
    "import json\n",
    "import os\n",
    "import pandas as pd\n",
    "import sys\n",
    "import torch\n",
    "from tqdm import tqdm\n",
    "\n",
    "current_directory = os.getcwd()\n",
    "parent_directory = os.path.dirname(os.path.dirname(current_directory))\n",
    "sys.path.insert(0, parent_directory)\n",
    "\n",
    "from data.dataset import PDBDataset\n",
    "from models.affinity_predictor import AffinityPredictor\n",
    "from trainers.abs_trainer import Trainer"
   ]
  },
  {
   "cell_type": "code",
   "execution_count": 2,
   "id": "ab8f5f69",
   "metadata": {},
   "outputs": [
    {
     "name": "stderr",
     "output_type": "stream",
     "text": [
      "/home/sascha/data/Projects/affinity_project/affinity/src/submodules/ATOMICA/atomicaenv/lib/python3.9/site-packages/torch/overrides.py:110: UserWarning: 'has_cuda' is deprecated, please use 'torch.backends.cuda.is_built()'\n",
      "  torch.has_cuda,\n",
      "/home/sascha/data/Projects/affinity_project/affinity/src/submodules/ATOMICA/atomicaenv/lib/python3.9/site-packages/torch/overrides.py:111: UserWarning: 'has_cudnn' is deprecated, please use 'torch.backends.cudnn.is_available()'\n",
      "  torch.has_cudnn,\n",
      "/home/sascha/data/Projects/affinity_project/affinity/src/submodules/ATOMICA/atomicaenv/lib/python3.9/site-packages/torch/overrides.py:117: UserWarning: 'has_mps' is deprecated, please use 'torch.backends.mps.is_built()'\n",
      "  torch.has_mps,\n",
      "/home/sascha/data/Projects/affinity_project/affinity/src/submodules/ATOMICA/atomicaenv/lib/python3.9/site-packages/torch/overrides.py:118: UserWarning: 'has_mkldnn' is deprecated, please use 'torch.backends.mkldnn.is_available()'\n",
      "  torch.has_mkldnn,\n",
      "/home/sascha/data/Projects/affinity_project/affinity/src/submodules/ATOMICA/atomicaenv/lib/python3.9/site-packages/torch/jit/_check.py:178: UserWarning: The TorchScript type system doesn't support instance-level annotations on empty non-base types in `__init__`. Instead, either 1) use a type annotation in the class body, or 2) wrap the type in `torch.jit.Attribute`.\n",
      "  warnings.warn(\n"
     ]
    }
   ],
   "source": [
    "model = AffinityPredictor.load_from_config_and_weights(\n",
    "    \"/home/sascha/data/Projects/affinity_project/affinity/src/submodules/ATOMICA/trial/process_complexes/trial_checkpoints/version_2/checkpoint/config.json\",\n",
    "    \"/home/sascha/data/Projects/affinity_project/affinity/src/submodules/ATOMICA/trial/process_complexes/trial_checkpoints/version_2/checkpoint/epoch2_step801.pt\"\n",
    ")"
   ]
  },
  {
   "cell_type": "code",
   "execution_count": 3,
   "id": "05351262",
   "metadata": {},
   "outputs": [
    {
     "name": "stdout",
     "output_type": "stream",
     "text": [
      "7458017 parameters in total\n",
      "7439809 trainable parameters in total\n"
     ]
    }
   ],
   "source": [
    "print(f\"{sum(p.numel() for p in model.parameters())} parameters in total\")\n",
    "print(f\"{sum(p.numel() for p in model.parameters() if p.requires_grad)} trainable parameters in total\")"
   ]
  },
  {
   "cell_type": "code",
   "execution_count": 4,
   "id": "323476c4",
   "metadata": {},
   "outputs": [],
   "source": [
    "dataset = PDBDataset(\"/home/sascha/data/Projects/affinity_project/affinity/src/submodules/ATOMICA/trial/process_complexes/test_labelled_processed_pdbs.pkl\")"
   ]
  },
  {
   "cell_type": "code",
   "execution_count": 5,
   "id": "4f0a02ce",
   "metadata": {},
   "outputs": [
    {
     "name": "stdout",
     "output_type": "stream",
     "text": [
      "Predictions saved to affinity_predictions.csv\n"
     ]
    }
   ],
   "source": [
    "import csv\n",
    "batch_size = 1  # Adjust batch size as needed\n",
    "\n",
    "output_path = \"affinity_predictions.csv\"\n",
    "with open(output_path, \"w\", newline=\"\") as csvfile:\n",
    "    writer = csv.writer(csvfile)\n",
    "    writer.writerow([\"id\", \"predicted_affinity\"])\n",
    "\n",
    "    for i in range(0, len(dataset), batch_size):\n",
    "        batch = PDBDataset.collate_fn([dataset[j] for j in range(i, min(i + batch_size, len(dataset)))])\n",
    "        batch = Trainer.to_device(batch, 'cpu')\n",
    "        if 'label' not in batch:\n",
    "            with torch.no_grad():\n",
    "                dummy_pred = model.infer({**batch, 'label': torch.zeros(1)})\n",
    "            label_shape = dummy_pred[1].shape if isinstance(dummy_pred, tuple) else dummy_pred.shape\n",
    "            batch['label'] = torch.zeros(label_shape)\n",
    "\n",
    "        with torch.no_grad():\n",
    "            prediction = model.infer(batch)\n",
    "        # Get IDs and predictions for the whole batch\n",
    "        pdb_ids = batch.get('id', [f\"sample_{i+j}\" for j in range(len(batch['label']))])\n",
    "        pred_values = prediction[1] if isinstance(prediction, tuple) else prediction\n",
    "        pred_values = pred_values.cpu().numpy().flatten()\n",
    "        for pdb_id, pred_value in zip(pdb_ids, pred_values):\n",
    "            writer.writerow([pdb_id, pred_value])\n",
    "\n",
    "        del batch, prediction\n",
    "        torch.cuda.empty_cache()\n",
    "\n",
    "print(f\"Predictions saved to {output_path}\")"
   ]
  },
  {
   "cell_type": "code",
   "execution_count": 6,
   "id": "aa713316",
   "metadata": {},
   "outputs": [
    {
     "ename": "NameError",
     "evalue": "name 'batch' is not defined",
     "output_type": "error",
     "traceback": [
      "\u001b[0;31m---------------------------------------------------------------------------\u001b[0m",
      "\u001b[0;31mNameError\u001b[0m                                 Traceback (most recent call last)",
      "Cell \u001b[0;32mIn[6], line 2\u001b[0m\n\u001b[1;32m      1\u001b[0m \u001b[38;5;66;03m# After creating the batch and moving to device\u001b[39;00m\n\u001b[0;32m----> 2\u001b[0m \u001b[38;5;28;01mif\u001b[39;00m \u001b[38;5;124m'\u001b[39m\u001b[38;5;124mlabel\u001b[39m\u001b[38;5;124m'\u001b[39m \u001b[38;5;129;01mnot\u001b[39;00m \u001b[38;5;129;01min\u001b[39;00m \u001b[43mbatch\u001b[49m:\n\u001b[1;32m      3\u001b[0m     \u001b[38;5;66;03m# Run a dummy forward pass to get the output shape\u001b[39;00m\n\u001b[1;32m      4\u001b[0m     \u001b[38;5;28;01mwith\u001b[39;00m torch\u001b[38;5;241m.\u001b[39mno_grad():\n\u001b[1;32m      5\u001b[0m         dummy_pred \u001b[38;5;241m=\u001b[39m model\u001b[38;5;241m.\u001b[39minfer({\u001b[38;5;241m*\u001b[39m\u001b[38;5;241m*\u001b[39mbatch, \u001b[38;5;124m'\u001b[39m\u001b[38;5;124mlabel\u001b[39m\u001b[38;5;124m'\u001b[39m: torch\u001b[38;5;241m.\u001b[39mzeros(\u001b[38;5;241m1\u001b[39m)})\n",
      "\u001b[0;31mNameError\u001b[0m: name 'batch' is not defined"
     ]
    }
   ],
   "source": [
    "# After creating the batch and moving to device\n",
    "if 'label' not in batch:\n",
    "    # Run a dummy forward pass to get the output shape\n",
    "    with torch.no_grad():\n",
    "        dummy_pred = model.infer({**batch, 'label': torch.zeros(1)})\n",
    "    label_shape = dummy_pred[1].shape if isinstance(dummy_pred, tuple) else dummy_pred.shape\n",
    "    batch['label'] = torch.zeros(label_shape)"
   ]
  },
  {
   "cell_type": "code",
   "execution_count": null,
   "id": "09742ca1",
   "metadata": {},
   "outputs": [],
   "source": [
    "batch.keys()"
   ]
  },
  {
   "cell_type": "code",
   "execution_count": null,
   "id": "5b5e00dd",
   "metadata": {},
   "outputs": [],
   "source": []
  }
 ],
 "metadata": {
  "kernelspec": {
   "display_name": "atomicaenv",
   "language": "python",
   "name": "python3"
  },
  "language_info": {
   "codemirror_mode": {
    "name": "ipython",
    "version": 3
   },
   "file_extension": ".py",
   "mimetype": "text/x-python",
   "name": "python",
   "nbconvert_exporter": "python",
   "pygments_lexer": "ipython3",
   "version": "3.9.22"
  }
 },
 "nbformat": 4,
 "nbformat_minor": 5
}
